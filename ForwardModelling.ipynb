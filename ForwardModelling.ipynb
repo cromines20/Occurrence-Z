{
 "cells": [
  {
   "cell_type": "code",
   "execution_count": 3,
   "metadata": {},
   "outputs": [],
   "source": [
    "import numpy as np\n",
    "import matplotlib.pyplot as plt\n",
    "from scipy.stats import ks_2samp"
   ]
  },
  {
   "cell_type": "code",
   "execution_count": 6,
   "metadata": {},
   "outputs": [],
   "source": [
    "eta = 0.3\n",
    "N_stars = 100000\n",
    "mean_FeH = -0.03   # Mean metallicity [Fe/H]\n",
    "std_FeH = 0.2      # Standard deviation of metallicity [Fe/H]\n",
    "FeH = np.random.normal(mean_FeH, std_FeH, N_stars)\n"
   ]
  },
  {
   "cell_type": "code",
   "execution_count": 1,
   "metadata": {},
   "outputs": [],
   "source": [
    "# Constants\n",
    "N_stars = 100000  # Total number of mock stars\n",
    "mean_FeH = -0.03   # Mean metallicity [Fe/H]\n",
    "std_FeH = 0.2      # Standard deviation of metallicity [Fe/H]\n",
    "eta = 0.3          # Overall planet occurrence rate\n",
    "M_sun = 1.0        # Solar mass in solar masses\n",
    "R_sun_AU = 0.00465047  # Solar radius in astronomical units (AU)\n",
    "p_value_threshold = 0.026  # Observed p-value threshold\n",
    "num_samples = 200  # Number of random samples\n",
    "fraction_threshold = 0.95  # Fraction of samples below p-value threshold"
   ]
  },
  {
   "cell_type": "code",
   "execution_count": 4,
   "metadata": {},
   "outputs": [],
   "source": [
    "# Generate mock stars with metallicity distribution\n",
    "FeH = np.random.normal(mean_FeH, std_FeH, N_stars)  # [Fe/H] distribution\n",
    "\n",
    "# Function to compute alpha given gamma and eta\n",
    "def compute_alpha(gamma, eta, FeH):\n",
    "    avg = np.mean(10 ** (gamma * FeH))\n",
    "    alpha = eta / avg\n",
    "    return alpha\n",
    "\n",
    "# Function to compute the fraction of samples with p-value below threshold\n",
    "def compute_fraction_pvalue_below_threshold(FeH_transiting, FeH_non_transiting, N_sample, num_samples, p_value_threshold):\n",
    "    count = 0\n",
    "    num_transiting = len(FeH_transiting)\n",
    "    num_non_transiting = len(FeH_non_transiting)\n",
    "    if num_transiting < N_sample or num_non_transiting < N_sample:\n",
    "        return 0  # Not enough data\n",
    "    for _ in range(num_samples):\n",
    "        sample_transiting = np.random.choice(FeH_transiting, N_sample, replace=False)\n",
    "        sample_non_transiting = np.random.choice(FeH_non_transiting, N_sample, replace=False)\n",
    "        _, p_value = ks_2samp(sample_transiting, sample_non_transiting)\n",
    "        if p_value < p_value_threshold:\n",
    "            count += 1\n",
    "    fraction = count / num_samples\n",
    "    return fraction\n",
    "\n",
    "# Range of gamma values to explore\n",
    "gamma_values = np.arange(0.0, 1.1, 0.1)\n",
    "N_sample_results = []\n",
    "\n",
    "for gamma in gamma_values:\n",
    "    # Step 1: Compute alpha\n",
    "    alpha = compute_alpha(gamma, eta, FeH)\n",
    "    \n",
    "    # Step 2: Compute planet occurrence probability f(Z) for each star\n",
    "    f_Z = alpha * 10 ** (gamma * FeH)\n",
    "    f_Z = np.clip(f_Z, 0, 1)  # Ensure probabilities are between 0 and 1\n",
    "    \n",
    "    # Step 3: Assign planet-hosting status\n",
    "    random_numbers = np.random.rand(N_stars)\n",
    "    is_planet_host = random_numbers < f_Z\n",
    "    host_indices = np.where(is_planet_host)[0]\n",
    "    num_hosts = len(host_indices)\n",
    "    \n",
    "    # Step 4: Assign masses and radii to planet-hosting stars\n",
    "    FeH_hosts = FeH[host_indices]\n",
    "    M_star = M_sun * 10 ** (0.2 * FeH_hosts)  # Stellar masses\n",
    "    R_star = R_sun_AU * (M_star / M_sun)      # Stellar radii in AU\n",
    "    \n",
    "    # Step 5: Assign orbital periods and compute semi-major axes\n",
    "    num_hosts = len(host_indices)\n",
    "    logP_min = np.log10(5)\n",
    "    logP_max = np.log10(400)\n",
    "    logP = np.random.uniform(logP_min, logP_max, num_hosts)\n",
    "    P_days = 10 ** logP\n",
    "    P_years = P_days / 365.25\n",
    "    a = (P_years ** 2 * M_star) ** (1/3)  # Semi-major axis in AU\n",
    "    \n",
    "    # Step 6: Assign orbital inclinations and determine transiting planets\n",
    "    cos_i = np.random.uniform(-1, 1, num_hosts)\n",
    "    R_over_a = R_star / a\n",
    "    is_transiting = cos_i < R_over_a\n",
    "    transiting_indices = host_indices[is_transiting]\n",
    "    non_transiting_indices = host_indices[~is_transiting]\n",
    "    \n",
    "    # Step 7: Add observational uncertainties to metallicity\n",
    "    FeH_obs = FeH + np.random.normal(0, 0.09, N_stars)  # Using LAMOST error\n",
    "    FeH_transiting = FeH_obs[transiting_indices]\n",
    "    FeH_non_transiting = FeH_obs[non_transiting_indices]\n",
    "    \n",
    "    # Step 8: Determine N_sample where 95% of samples have p-value < 0.026\n",
    "    N_sample_found = None\n",
    "    N_sample_values = np.arange(100, 2001, 100)\n",
    "    for N_sample in N_sample_values:\n",
    "        fraction_below = compute_fraction_pvalue_below_threshold(\n",
    "            FeH_transiting, FeH_non_transiting, N_sample, num_samples, p_value_threshold)\n",
    "        if fraction_below >= fraction_threshold:\n",
    "            N_sample_found = N_sample\n",
    "            print(f\"Gamma = {gamma:.2f}, N_sample = {N_sample}, Fraction = {fraction_below:.2f}\")\n",
    "            break\n",
    "    N_sample_results.append(N_sample_found)"
   ]
  },
  {
   "cell_type": "code",
   "execution_count": 5,
   "metadata": {},
   "outputs": [
    {
     "data": {
      "image/png": "[encoded data removed]",
      "text/plain": [
       "<Figure size 800x600 with 1 Axes>"
      ]
     },
     "metadata": {},
     "output_type": "display_data"
    }
   ],
   "source": [
    "# Plotting the results\n",
    "plt.figure(figsize=(8, 6))\n",
    "plt.plot(gamma_values, N_sample_results, marker='o')\n",
    "plt.xlabel('Gamma (γ)')\n",
    "plt.ylabel('Minimum Sample Size (N_sample)')\n",
    "plt.title('Minimum Sample Size vs. Gamma')\n",
    "plt.grid(True)\n",
    "plt.show()"
   ]
  }
 ],
 "metadata": {
  "kernelspec": {
   "display_name": "myenv",
   "language": "python",
   "name": "python3"
  },
  "language_info": {
   "codemirror_mode": {
    "name": "ipython",
    "version": 3
   },
   "file_extension": ".py",
   "mimetype": "text/x-python",
   "name": "python",
   "nbconvert_exporter": "python",
   "pygments_lexer": "ipython3",
   "version": "3.9.19"
  }
 },
 "nbformat": 4,
 "nbformat_minor": 2
}
