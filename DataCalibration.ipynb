{
 "cells": [
  {
   "cell_type": "code",
   "execution_count": 3,
   "id": "85bd1a4d",
   "metadata": {},
   "outputs": [],
   "source": [
    "from astroquery.gaia import Gaia\n",
    "from astropy.table import Table\n",
    "from matplotlib.pyplot import subplots\n",
    "import matplotlib.pyplot as plt\n",
    "plt.style.use('bmh')\n",
    "import numpy as np\n",
    "import pandas as pd\n",
    "import warnings\n",
    "warnings.filterwarnings('ignore')"
   ]
  },
  {
   "cell_type": "markdown",
   "id": "d59bd2d7",
   "metadata": {},
   "source": [
    "### Reading in Kepler/Gaia crossmatch data "
   ]
  },
  {
   "cell_type": "code",
   "execution_count": 5,
   "id": "685e4a8c",
   "metadata": {},
   "outputs": [
    {
     "name": "stdout",
     "output_type": "stream",
     "text": [
      "The parameters we need that AREN'T currently in the dataframe are azero_gspphot, mg_gspphot, libname_gspphot\n",
      "The parameters we need that ARE already in the dataframe are teff_gspphot, logg_gspphot, mh_gspphot, ebpminrp_gspphot, ag_gspphot, ra, dec\n"
     ]
    }
   ],
   "source": [
    "kepler_dr3_good = Table.read('Data/kepler_dr3_good.fits', format='fits') # reading in crossmatch data\n",
    "kepler_dr3_good_df = kepler_dr3_good.to_pandas() # creating a dataframe for later use\n",
    "kepler_dr3_good_sourceids = kepler_dr3_good[['source_id', 'mh_gspphot']] # to be later uploaded to Gaia database\n",
    "\n",
    "# since the original crossmatch used the gaia_source_lite table, there are some columns missing which I need\n",
    "# for the calibration\n",
    "# checking which parameters that we need (for callibration) are already in the table, and which are not.\n",
    "parameters_for_callibration = [\n",
    "    'teff_gspphot', 'logg_gspphot', 'mh_gspphot', 'azero_gspphot', 'ebpminrp_gspphot', 'ag_gspphot', \n",
    "    'mg_gspphot', 'ra', 'dec', 'libname_gspphot'\n",
    "]\n",
    "required_parameters = []\n",
    "unneeded_parameters = []\n",
    "\n",
    "for i in parameters_for_callibration:\n",
    "    if i in kepler_dr3_good.columns:\n",
    "        unneeded_parameters += [i]\n",
    "    else:\n",
    "        required_parameters += [i]\n",
    "        \n",
    "print(f\"The parameters we need that AREN'T currently in the dataframe are {', '.join(required_parameters)}\")\n",
    "print(f\"The parameters we need that ARE already in the dataframe are {', '.join(unneeded_parameters)}\")"
   ]
  },
  {
   "cell_type": "markdown",
   "id": "c9586602",
   "metadata": {},
   "source": [
    "### Getting the parameters I need from the Gaia query system"
   ]
  },
  {
   "cell_type": "code",
   "execution_count": 6,
   "id": "873d6a34",
   "metadata": {},
   "outputs": [
    {
     "name": "stdout",
     "output_type": "stream",
     "text": [
      "INFO: Login to gaia TAP server [astroquery.gaia.core]\n",
      "INFO: OK [astroquery.utils.tap.core]\n",
      "INFO: Login to gaia data server [astroquery.gaia.core]\n",
      "INFO: OK [astroquery.utils.tap.core]\n"
     ]
    }
   ],
   "source": [
    "# logging in to Gaia\n",
    "\n",
    "username = 'cromines'\n",
    "password = \"6CPd@3Wp#3HGSk\"\n",
    "Gaia.login(user = username, password = password)"
   ]
  },
  {
   "cell_type": "code",
   "execution_count": 5,
   "id": "39d88cae",
   "metadata": {},
   "outputs": [],
   "source": [
    "# uploading source ids to gaia (has already been uploaded)\n",
    "\n",
    "# Gaia.upload_table(upload_resource = kepler_dr3_good_sourceids, table_name = \"kepler_gaia_xmatch\")"
   ]
  },
  {
   "cell_type": "code",
   "execution_count": 7,
   "id": "9891e3f4",
   "metadata": {},
   "outputs": [
    {
     "name": "stdout",
     "output_type": "stream",
     "text": [
      "kepler_gaia_xmatch_oid\n",
      "source_id\n",
      "mh_gspphot\n"
     ]
    }
   ],
   "source": [
    "# Checking columns of my table\n",
    "\n",
    "full_qualified_table_name = 'user_' + username + '.kepler_gaia_xmatch' # table must be referenced in this form\n",
    "my_table = Gaia.load_table(full_qualified_table_name)\n",
    "\n",
    "for column in my_table.columns:\n",
    "    print(column.name)"
   ]
  },
  {
   "cell_type": "code",
   "execution_count": 8,
   "id": "3c9723fb",
   "metadata": {},
   "outputs": [
    {
     "name": "stdout",
     "output_type": "stream",
     "text": [
      "INFO: Query finished. [astroquery.utils.tap.core]\n"
     ]
    },
    {
     "data": {
      "text/html": [
       "<div>\n",
       "<style scoped>\n",
       "    .dataframe tbody tr th:only-of-type {\n",
       "        vertical-align: middle;\n",
       "    }\n",
       "\n",
       "    .dataframe tbody tr th {\n",
       "        vertical-align: top;\n",
       "    }\n",
       "\n",
       "    .dataframe thead th {\n",
       "        text-align: right;\n",
       "    }\n",
       "</style>\n",
       "<table border=\"1\" class=\"dataframe\">\n",
       "  <thead>\n",
       "    <tr style=\"text-align: right;\">\n",
       "      <th></th>\n",
       "      <th>source_id</th>\n",
       "      <th>azero_gspphot</th>\n",
       "      <th>libname_gspphot</th>\n",
       "      <th>mg_gspphot</th>\n",
       "    </tr>\n",
       "  </thead>\n",
       "  <tbody>\n",
       "    <tr>\n",
       "      <th>0</th>\n",
       "      <td>2050233803028318080</td>\n",
       "      <td>NaN</td>\n",
       "      <td></td>\n",
       "      <td>NaN</td>\n",
       "    </tr>\n",
       "    <tr>\n",
       "      <th>1</th>\n",
       "      <td>2050233601176543104</td>\n",
       "      <td>0.5364</td>\n",
       "      <td>MARCS</td>\n",
       "      <td>5.0881</td>\n",
       "    </tr>\n",
       "    <tr>\n",
       "      <th>2</th>\n",
       "      <td>2050230543159814656</td>\n",
       "      <td>0.0064</td>\n",
       "      <td>MARCS</td>\n",
       "      <td>0.3053</td>\n",
       "    </tr>\n",
       "  </tbody>\n",
       "</table>\n",
       "</div>"
      ],
      "text/plain": [
       "             source_id  azero_gspphot libname_gspphot  mg_gspphot\n",
       "0  2050233803028318080            NaN                         NaN\n",
       "1  2050233601176543104         0.5364           MARCS      5.0881\n",
       "2  2050230543159814656         0.0064           MARCS      0.3053"
      ]
     },
     "execution_count": 8,
     "metadata": {},
     "output_type": "execute_result"
    }
   ],
   "source": [
    "# Building the query and running the job (~ 45 seconds)\n",
    "\n",
    "gaia_source_params = \"user.source_id, gaia.azero_gspphot, gaia.libname_gspphot, params.mg_gspphot\"\n",
    "\n",
    "adql_query = f\"\"\"\n",
    "SELECT {gaia_source_params} \n",
    "FROM {full_qualified_table_name} AS user \n",
    "JOIN gaiadr3.gaia_source AS gaia \n",
    "ON gaia.source_id = user.source_id \n",
    "JOIN gaiadr3.astrophysical_parameters AS params \n",
    "ON params.source_id = user.source_id\n",
    "\"\"\"    \n",
    "\n",
    "job = Gaia.launch_job_async(adql_query)\n",
    "\n",
    "# Convert the result to a Pandas DataFrame\n",
    "results = job.get_results()\n",
    "df_results = results.to_pandas()\n",
    "df_results.head(3)"
   ]
  },
  {
   "cell_type": "markdown",
   "id": "b72608ca",
   "metadata": {},
   "source": [
    "### Running the calibration and adding the calibrated metallicity back as a column"
   ]
  },
  {
   "cell_type": "code",
   "execution_count": 18,
   "id": "e71a572e",
   "metadata": {},
   "outputs": [
    {
     "data": {
      "text/html": [
       "<div>\n",
       "<style scoped>\n",
       "    .dataframe tbody tr th:only-of-type {\n",
       "        vertical-align: middle;\n",
       "    }\n",
       "\n",
       "    .dataframe tbody tr th {\n",
       "        vertical-align: top;\n",
       "    }\n",
       "\n",
       "    .dataframe thead th {\n",
       "        text-align: right;\n",
       "    }\n",
       "</style>\n",
       "<table border=\"1\" class=\"dataframe\">\n",
       "  <thead>\n",
       "    <tr style=\"text-align: right;\">\n",
       "      <th></th>\n",
       "      <th>source_id</th>\n",
       "      <th>teff_gspphot</th>\n",
       "      <th>logg_gspphot</th>\n",
       "      <th>mh_gspphot</th>\n",
       "      <th>azero_gspphot</th>\n",
       "      <th>ebpminrp_gspphot</th>\n",
       "      <th>ag_gspphot</th>\n",
       "      <th>mg_gspphot</th>\n",
       "      <th>libname_gspphot</th>\n",
       "      <th>ra</th>\n",
       "      <th>dec</th>\n",
       "    </tr>\n",
       "  </thead>\n",
       "  <tbody>\n",
       "    <tr>\n",
       "      <th>0</th>\n",
       "      <td>2050233601176543104</td>\n",
       "      <td>5616.329590</td>\n",
       "      <td>4.4508</td>\n",
       "      <td>-0.3394</td>\n",
       "      <td>0.5364</td>\n",
       "      <td>0.2373</td>\n",
       "      <td>0.4400</td>\n",
       "      <td>5.0881</td>\n",
       "      <td>MARCS</td>\n",
       "      <td>291.043058</td>\n",
       "      <td>36.593767</td>\n",
       "    </tr>\n",
       "    <tr>\n",
       "      <th>1</th>\n",
       "      <td>2050230543159814656</td>\n",
       "      <td>4451.399902</td>\n",
       "      <td>2.1047</td>\n",
       "      <td>-0.3895</td>\n",
       "      <td>0.0064</td>\n",
       "      <td>0.0026</td>\n",
       "      <td>0.0049</td>\n",
       "      <td>0.3053</td>\n",
       "      <td>MARCS</td>\n",
       "      <td>291.055891</td>\n",
       "      <td>36.559885</td>\n",
       "    </tr>\n",
       "    <tr>\n",
       "      <th>2</th>\n",
       "      <td>2050231848829944320</td>\n",
       "      <td>5004.754395</td>\n",
       "      <td>4.4394</td>\n",
       "      <td>-0.1710</td>\n",
       "      <td>0.1634</td>\n",
       "      <td>0.0684</td>\n",
       "      <td>0.1295</td>\n",
       "      <td>5.5022</td>\n",
       "      <td>PHOENIX</td>\n",
       "      <td>291.137622</td>\n",
       "      <td>36.577344</td>\n",
       "    </tr>\n",
       "  </tbody>\n",
       "</table>\n",
       "</div>"
      ],
      "text/plain": [
       "             source_id  teff_gspphot  logg_gspphot  mh_gspphot  azero_gspphot  \\\n",
       "0  2050233601176543104   5616.329590        4.4508     -0.3394         0.5364   \n",
       "1  2050230543159814656   4451.399902        2.1047     -0.3895         0.0064   \n",
       "2  2050231848829944320   5004.754395        4.4394     -0.1710         0.1634   \n",
       "\n",
       "   ebpminrp_gspphot  ag_gspphot  mg_gspphot libname_gspphot          ra  \\\n",
       "0            0.2373      0.4400      5.0881           MARCS  291.043058   \n",
       "1            0.0026      0.0049      0.3053           MARCS  291.055891   \n",
       "2            0.0684      0.1295      5.5022         PHOENIX  291.137622   \n",
       "\n",
       "         dec  \n",
       "0  36.593767  \n",
       "1  36.559885  \n",
       "2  36.577344  "
      ]
     },
     "execution_count": 18,
     "metadata": {},
     "output_type": "execute_result"
    }
   ],
   "source": [
    "# getting all the required parameters for the calibration into one place\n",
    "calibration_df = pd.merge(df_results, kepler_dr3_good.to_pandas(), on='source_id', how='inner')\n",
    "calibration_df = calibration_df[[\n",
    "    'source_id', 'teff_gspphot', 'logg_gspphot', 'mh_gspphot', 'azero_gspphot', 'ebpminrp_gspphot', \n",
    "    'ag_gspphot', 'mg_gspphot', 'libname_gspphot', 'ra', 'dec'\n",
    "]]\n",
    "\n",
    "# cleaning up the dataframe for the calibrations\n",
    "clean_calibration_df = calibration_df.dropna(axis=0) # drop rows with NaN in them\n",
    "clean_calibration_df = clean_calibration_df[clean_calibration_df['libname_gspphot'].isin(['MARCS', 'PHOENIX'])] # only MARCS and PHOENIX\n",
    "clean_calibration_df = clean_calibration_df.reset_index(drop=True) # reset indexes\n",
    "# libraries have enough training data to be calibrated\n",
    "clean_calibration_df.head(3)"
   ]
  },
  {
   "cell_type": "code",
   "execution_count": 19,
   "id": "85118656",
   "metadata": {},
   "outputs": [
    {
     "name": "stdout",
     "output_type": "stream",
     "text": [
      "Automatically adding cos(b) from given ra and dec assuming degrees.\n",
      "Automatically adding cos(b) from given ra and dec assuming degrees.\n"
     ]
    }
   ],
   "source": [
    "from gdr3apcal import GaiaDR3_GSPPhot_cal # from github metallicity calibration tool\n",
    "calib = GaiaDR3_GSPPhot_cal()\n",
    "metal_calib = calib.calibrateMetallicity(clean_calibration_df) # calibrating metallicity"
   ]
  },
  {
   "cell_type": "code",
   "execution_count": 20,
   "id": "7c66c65d",
   "metadata": {},
   "outputs": [
    {
     "data": {
      "text/html": [
       "<div>\n",
       "<style scoped>\n",
       "    .dataframe tbody tr th:only-of-type {\n",
       "        vertical-align: middle;\n",
       "    }\n",
       "\n",
       "    .dataframe tbody tr th {\n",
       "        vertical-align: top;\n",
       "    }\n",
       "\n",
       "    .dataframe thead th {\n",
       "        text-align: right;\n",
       "    }\n",
       "</style>\n",
       "<table border=\"1\" class=\"dataframe\">\n",
       "  <thead>\n",
       "    <tr style=\"text-align: right;\">\n",
       "      <th></th>\n",
       "      <th>source_id</th>\n",
       "      <th>calibrated_FeH</th>\n",
       "    </tr>\n",
       "  </thead>\n",
       "  <tbody>\n",
       "    <tr>\n",
       "      <th>0</th>\n",
       "      <td>2050233601176543104</td>\n",
       "      <td>-0.041918</td>\n",
       "    </tr>\n",
       "    <tr>\n",
       "      <th>1</th>\n",
       "      <td>2050230543159814656</td>\n",
       "      <td>-0.190046</td>\n",
       "    </tr>\n",
       "    <tr>\n",
       "      <th>2</th>\n",
       "      <td>2050231848829944320</td>\n",
       "      <td>0.428135</td>\n",
       "    </tr>\n",
       "  </tbody>\n",
       "</table>\n",
       "</div>"
      ],
      "text/plain": [
       "             source_id  calibrated_FeH\n",
       "0  2050233601176543104       -0.041918\n",
       "1  2050230543159814656       -0.190046\n",
       "2  2050231848829944320        0.428135"
      ]
     },
     "execution_count": 20,
     "metadata": {},
     "output_type": "execute_result"
    }
   ],
   "source": [
    "# adding the calibrated metallicities to the dataframe\n",
    "\n",
    "clean_calibration_df['calibrated_FeH'] = metal_calib\n",
    "clean_calibration_df = clean_calibration_df[['source_id', 'calibrated_FeH']]\n",
    "clean_calibration_df.head(3)"
   ]
  },
  {
   "cell_type": "code",
   "execution_count": 21,
   "id": "9fd4b21b",
   "metadata": {},
   "outputs": [
    {
     "data": {
      "text/html": [
       "<div>\n",
       "<style scoped>\n",
       "    .dataframe tbody tr th:only-of-type {\n",
       "        vertical-align: middle;\n",
       "    }\n",
       "\n",
       "    .dataframe tbody tr th {\n",
       "        vertical-align: top;\n",
       "    }\n",
       "\n",
       "    .dataframe thead th {\n",
       "        text-align: right;\n",
       "    }\n",
       "</style>\n",
       "<table border=\"1\" class=\"dataframe\">\n",
       "  <thead>\n",
       "    <tr style=\"text-align: right;\">\n",
       "      <th></th>\n",
       "      <th>source_id</th>\n",
       "      <th>calibrated_FeH</th>\n",
       "      <th>kepid</th>\n",
       "      <th>ra_kic</th>\n",
       "      <th>dec_kic</th>\n",
       "      <th>random_index</th>\n",
       "      <th>ra</th>\n",
       "      <th>dec</th>\n",
       "      <th>parallax</th>\n",
       "      <th>parallax_error</th>\n",
       "      <th>...</th>\n",
       "      <th>mass_err2</th>\n",
       "      <th>prov_sec</th>\n",
       "      <th>nconfp</th>\n",
       "      <th>nkoi</th>\n",
       "      <th>ntce</th>\n",
       "      <th>jmag</th>\n",
       "      <th>hmag</th>\n",
       "      <th>kmag</th>\n",
       "      <th>planet?</th>\n",
       "      <th>kepler_gaia_mag_diff</th>\n",
       "    </tr>\n",
       "  </thead>\n",
       "  <tbody>\n",
       "    <tr>\n",
       "      <th>0</th>\n",
       "      <td>2050233601176543104</td>\n",
       "      <td>-0.041918</td>\n",
       "      <td>757099</td>\n",
       "      <td>291.04306</td>\n",
       "      <td>36.593811</td>\n",
       "      <td>187127310</td>\n",
       "      <td>291.043058</td>\n",
       "      <td>36.593767</td>\n",
       "      <td>2.798592</td>\n",
       "      <td>0.031155</td>\n",
       "      <td>...</td>\n",
       "      <td>-0.233</td>\n",
       "      <td>b'DSEP'</td>\n",
       "      <td>0</td>\n",
       "      <td>0</td>\n",
       "      <td>1</td>\n",
       "      <td>11.656</td>\n",
       "      <td>11.193</td>\n",
       "      <td>11.094</td>\n",
       "      <td>b'none'</td>\n",
       "      <td>-0.072974</td>\n",
       "    </tr>\n",
       "    <tr>\n",
       "      <th>1</th>\n",
       "      <td>2050230543159814656</td>\n",
       "      <td>-0.190046</td>\n",
       "      <td>757137</td>\n",
       "      <td>291.05588</td>\n",
       "      <td>36.559952</td>\n",
       "      <td>391020929</td>\n",
       "      <td>291.055891</td>\n",
       "      <td>36.559885</td>\n",
       "      <td>1.754854</td>\n",
       "      <td>0.010898</td>\n",
       "      <td>...</td>\n",
       "      <td>-0.947</td>\n",
       "      <td>b'DSEP'</td>\n",
       "      <td>0</td>\n",
       "      <td>0</td>\n",
       "      <td>0</td>\n",
       "      <td>7.467</td>\n",
       "      <td>6.853</td>\n",
       "      <td>6.722</td>\n",
       "      <td>b'none'</td>\n",
       "      <td>-0.063634</td>\n",
       "    </tr>\n",
       "    <tr>\n",
       "      <th>2</th>\n",
       "      <td>2050231848829944320</td>\n",
       "      <td>0.428135</td>\n",
       "      <td>757450</td>\n",
       "      <td>291.13760</td>\n",
       "      <td>36.577381</td>\n",
       "      <td>189196887</td>\n",
       "      <td>291.137622</td>\n",
       "      <td>36.577344</td>\n",
       "      <td>1.231338</td>\n",
       "      <td>0.020312</td>\n",
       "      <td>...</td>\n",
       "      <td>-0.040</td>\n",
       "      <td>b'DSEP'</td>\n",
       "      <td>1</td>\n",
       "      <td>1</td>\n",
       "      <td>1</td>\n",
       "      <td>13.665</td>\n",
       "      <td>13.262</td>\n",
       "      <td>13.118</td>\n",
       "      <td>b'conf'</td>\n",
       "      <td>-0.104204</td>\n",
       "    </tr>\n",
       "  </tbody>\n",
       "</table>\n",
       "<p>3 rows × 87 columns</p>\n",
       "</div>"
      ],
      "text/plain": [
       "             source_id  calibrated_FeH   kepid     ra_kic    dec_kic  \\\n",
       "0  2050233601176543104       -0.041918  757099  291.04306  36.593811   \n",
       "1  2050230543159814656       -0.190046  757137  291.05588  36.559952   \n",
       "2  2050231848829944320        0.428135  757450  291.13760  36.577381   \n",
       "\n",
       "   random_index          ra        dec  parallax  parallax_error  ...  \\\n",
       "0     187127310  291.043058  36.593767  2.798592        0.031155  ...   \n",
       "1     391020929  291.055891  36.559885  1.754854        0.010898  ...   \n",
       "2     189196887  291.137622  36.577344  1.231338        0.020312  ...   \n",
       "\n",
       "   mass_err2  prov_sec  nconfp  nkoi  ntce    jmag    hmag    kmag  planet?  \\\n",
       "0     -0.233   b'DSEP'       0     0     1  11.656  11.193  11.094  b'none'   \n",
       "1     -0.947   b'DSEP'       0     0     0   7.467   6.853   6.722  b'none'   \n",
       "2     -0.040   b'DSEP'       1     1     1  13.665  13.262  13.118  b'conf'   \n",
       "\n",
       "   kepler_gaia_mag_diff  \n",
       "0             -0.072974  \n",
       "1             -0.063634  \n",
       "2             -0.104204  \n",
       "\n",
       "[3 rows x 87 columns]"
      ]
     },
     "execution_count": 21,
     "metadata": {},
     "output_type": "execute_result"
    }
   ],
   "source": [
    "calibrated_kepler_dr3_good = pd.merge(clean_calibration_df, kepler_dr3_good.to_pandas(), on='source_id')\n",
    "calibrated_kepler_dr3_good.to_csv('Data/calibrated_kepler_dr3_good.csv', index=False) # saving the dataframe as a file\n",
    "calibrated_kepler_dr3_good.head(3)"
   ]
  }
 ],
 "metadata": {
  "kernelspec": {
   "display_name": "myenv",
   "language": "python",
   "name": "python3"
  },
  "language_info": {
   "codemirror_mode": {
    "name": "ipython",
    "version": 3
   },
   "file_extension": ".py",
   "mimetype": "text/x-python",
   "name": "python",
   "nbconvert_exporter": "python",
   "pygments_lexer": "ipython3",
   "version": "3.9.19"
  }
 },
 "nbformat": 4,
 "nbformat_minor": 5
}
